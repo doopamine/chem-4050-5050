{
 "cells": [
  {
   "cell_type": "code",
   "execution_count": null,
   "id": "2e1c7ee0",
   "metadata": {},
   "outputs": [],
   "source": [
    "# Firstly, I will store the Cartesian coordinates for a few molecules from the CCCBDB database\n",
    "\n",
    "molecule_H2 = {\n",
    "    \"H1\" = [0.0000, 0.0000, 0.0000]\n",
    "    \"H2\" = [0.0000, 0.0000, 0.7414]\n",
    "}\n",
    "\n",
    "molecule_H2O = {\n",
    "    \"H1\" = [0.0000, 0.7572, -0.4692]\n",
    "    \"H2\" = [0.0000, -0.7572, -0.4692]\n",
    "    \"O\"  = [0.0000, 0.0000, 0.1173]\n",
    "}\n",
    "\n",
    "molecule_benzene = {\n",
    "    \"C1\" = [0.0000, 1.3970, 0.0000]\n",
    "    \"C2\" = [1.2098, 0.6985, 0.0000]\n",
    "    \"C3\" = [1.2098, -0.6985, 0.0000]\n",
    "    \"C4\" = [0.0000, -1.3970, 0.0000]\n",
    "    \"C5\" = [-1.2098, -0.6985, 0.0000]\n",
    "    \"C6\" = [-1.2098, 0.6985, 0.0000]\n",
    "    \"H7\" = [0.0000, 2.4810, 0.0000]\n",
    "    \"H8\" = [2.1486, 1.2405, 0.0000]\n",
    "    \"H9\" = [2.1486, -1.2405, 0.0000]\n",
    "    \"H10\" = [0.0000, -2.4810, 0.0000]\n",
    "    \"H11\" = [-2.1486, -1.2405, 0.0000]\n",
    "    \"H12\" = [-2.1486, 1.2405, 0.0000]\n",
    "}\n",
    "\n",
    "print(molecule_H2, molecule_H2O, molecule_benzene)\n"
   ]
  }
 ],
 "metadata": {
  "language_info": {
   "name": "python"
  }
 },
 "nbformat": 4,
 "nbformat_minor": 5
}
